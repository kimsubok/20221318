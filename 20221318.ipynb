{
 "cells": [
  {
   "cell_type": "markdown",
   "id": "87e65130",
   "metadata": {},
   "source": [
    "# 1. 생일 느린 순서로 출력"
   ]
  },
  {
   "cell_type": "code",
   "execution_count": 18,
   "id": "4bd2e9d1",
   "metadata": {},
   "outputs": [
    {
     "name": "stdout",
     "output_type": "stream",
     "text": [
      "생일이 느린 순서 Top 10:\n",
      "1위: 홍서연 - 20241282\n",
      "2위: 신수민 - 20051230\n",
      "3위: 이서영 - 20051225\n",
      "4위: 강민주 - 20051214\n",
      "5위: 김민경 - 20051202\n",
      "6위: 이서영 - 20051112\n",
      "7위: 배시은 - 20051102\n",
      "8위: 김여원 - 20051031\n",
      "9위: 이서진 - 20051028\n",
      "10위: 서홍빈 - 20051024\n"
     ]
    }
   ],
   "source": [
    "import csv\n",
    "\n",
    "class Heap:\n",
    "\n",
    "    def __init__(self, *args):\n",
    "        if len(args) != 0:\n",
    "            self.__A = args[0]\n",
    "        else: self.__A = []\n",
    "\n",
    "    def insert(self, x):\n",
    "        self.__A.append(x)\n",
    "        self.__percolateUp(len(self.__A)-1)\n",
    "\n",
    "    def __percolateUp(self, i:int):\n",
    "        parent = (i - 1) // 2\n",
    "        if i>0 and self.__A[i] > self.__A[parent]:\n",
    "            self.__A[i], self.__A[parent] = self.__A[parent], self.__A[i]\n",
    "            self.__percolateUp(parent)\n",
    "\n",
    "    def deleteMax(self):\n",
    "        if (not self.isEmpty()):\n",
    "            max = self.__A[0]\n",
    "            self.__A[0] = self.__A.pop()\n",
    "            self.__percolateDown(0)\n",
    "            return max\n",
    "        else : \n",
    "            return None\n",
    "        \n",
    "    def __percolateDown(self, i:int):\n",
    "        child = 2*i+1\n",
    "        right = 2*i+2\n",
    "        if (child <= len(self.__A)-1) :\n",
    "            if(right <=len(self.__A)-1 and self.__A[child] < self.__A[right]):\n",
    "                child = right\n",
    "            if self.__A[i] <self.__A[child]:\n",
    "                self.__A[i], self.__A[child] = self.__A[child], self.__A[i]\n",
    "                self.__percolateDown(child)\n",
    "    \n",
    "    def max(self):\n",
    "        return self.__A[0]\n",
    "    \n",
    "    def buildHeap(self):\n",
    "        for i in range((len(self.__A)-1)//2, -1, -1):\n",
    "            self.__percolateDown(i)\n",
    "\n",
    "    def isEmpty(self) -> bool:\n",
    "        return len(self.__A)==0\n",
    "    \n",
    "    def clear(self):\n",
    "        self.__A=[]\n",
    "\n",
    "    def size(self) -> int:\n",
    "        return len(self.__A)\n",
    "    \n",
    "data = []\n",
    "with open('birthday.csv', 'r', encoding='utf-8') as file:\n",
    "    reader = csv.reader(file)\n",
    "    next(reader)\n",
    "    for row in reader:\n",
    "        if len(row) != 3:\n",
    "            continue\n",
    "        student_id, name, birthday = row\n",
    "        if birthday.strip() == '':\n",
    "            continue\n",
    "        data.append( (int(birthday), name) )\n",
    "\n",
    "heap = Heap()\n",
    "for item in data:\n",
    "    heap.insert(item)\n",
    "\n",
    "print(\"생일이 느린 순서 Top 10:\")\n",
    "for i in range(10):\n",
    "    if not heap.isEmpty():\n",
    "        birthday, name = heap.deleteMax()\n",
    "        print(f\"{i+1}위: {name} - {birthday}\")\n",
    "\n"
   ]
  },
  {
   "cell_type": "markdown",
   "id": "28001106",
   "metadata": {},
   "source": [
    "# 2. 교재 8장 우선순위 큐 연습문제"
   ]
  },
  {
   "cell_type": "markdown",
   "id": "826a008a",
   "metadata": {},
   "source": [
    "### 1번\n",
    "\n",
    "가능하다. 최대 힙에서는 각 부모 노드가 자식 노드들보다 값이 크다는 성질을 만족하지만, 부모와 자식간의 값의 차이에 대한 제약은 없기 때문에 부모 노드의 값이 자식 노드들보다 크다고 해서 부모 노드가 자식 노드들보다 반드시 크거나 작지 않다는 보장은 없다."
   ]
  },
  {
   "cell_type": "markdown",
   "id": "fb7859ca",
   "metadata": {},
   "source": [
    "### 2번\n",
    "\n",
    "아니다. 최대 힙에서 마지막 원소인 A[n-1]이 항상 가장 작은 갖는 것은 아니다. 최대 힙에서는 마지막 원소가 항상 힙의 구조에 따라 힙의 마지막 레벨의 가장 오른쪽 노드일 뿐이다. 마지막 원소는 항상 작은 값일 필요는 없으며, 부모 노드보다 값이 작거나 클 수 있다."
   ]
  },
  {
   "cell_type": "markdown",
   "id": "e0366d69",
   "metadata": {},
   "source": [
    "### 3번\n",
    "\n",
    "n/2"
   ]
  },
  {
   "cell_type": "markdown",
   "id": "9bae8bc4",
   "metadata": {},
   "source": [
    "### 4번\n",
    "\n",
    "최악의 경우 Θ(log n), 최선의 경우 Θ(n)"
   ]
  },
  {
   "cell_type": "markdown",
   "id": "4a8009f9",
   "metadata": {},
   "source": [
    "### 5번\n",
    "\n",
    "맨 마지막 원소를 삭제하는 작업은 리스트의 마지막 요소를 제거하는 것이기 때문에 간단한 일이며 시간 복잡도는 O(1)이다."
   ]
  },
  {
   "cell_type": "markdown",
   "id": "e036cd42",
   "metadata": {},
   "source": [
    "### 6번\n",
    "\n",
    "스며오르기 방식은 각 원소를 삽입할 때마다 O(log n)의 시간 복잡도를 갖고, 스며내리기 방식은 O(n)의 시간 복잡도를 가지기 때문에 스며내리기 방식이 더 효율적이다."
   ]
  },
  {
   "cell_type": "markdown",
   "id": "7fdb7527",
   "metadata": {},
   "source": [
    "### 7번\n",
    "\n",
    "n개의 원소로 이루어진 최대 힙에서 임의의 원소 값이 증가했을 때, 이를 반영하여 힙을 수선하는 과정은 스며오르기 방식으로 O(log n) 시간 내에 이루어진다."
   ]
  },
  {
   "cell_type": "markdown",
   "id": "4a640cbf",
   "metadata": {},
   "source": [
    "# 3. LeetCode 703.Kth Largest Element in Stream"
   ]
  },
  {
   "cell_type": "code",
   "execution_count": 19,
   "id": "49c91892",
   "metadata": {},
   "outputs": [
    {
     "name": "stdout",
     "output_type": "stream",
     "text": [
      "4\n",
      "5\n",
      "5\n"
     ]
    }
   ],
   "source": [
    "import heapq\n",
    "\n",
    "class KthLargest:\n",
    "    def __init__(self, k: int, nums: list[int]):\n",
    "        self.k = k\n",
    "        self.min_heap = []\n",
    "        \n",
    "        for num in nums:\n",
    "            self.add(num)\n",
    "\n",
    "    def add(self, val: int) -> int:\n",
    "        heapq.heappush(self.min_heap, val)\n",
    "        \n",
    "        if len(self.min_heap) > self.k:\n",
    "            heapq.heappop(self.min_heap)\n",
    "        \n",
    "        return self.min_heap[0]\n",
    "    \n",
    "kthLargest = KthLargest(3, [4, 5, 8, 2])\n",
    "print(kthLargest.add(3))\n",
    "print(kthLargest.add(5))\n",
    "print(kthLargest.add(10))\n"
   ]
  }
 ],
 "metadata": {
  "kernelspec": {
   "display_name": "Python 3",
   "language": "python",
   "name": "python3"
  },
  "language_info": {
   "codemirror_mode": {
    "name": "ipython",
    "version": 3
   },
   "file_extension": ".py",
   "mimetype": "text/x-python",
   "name": "python",
   "nbconvert_exporter": "python",
   "pygments_lexer": "ipython3",
   "version": "3.11.9"
  }
 },
 "nbformat": 4,
 "nbformat_minor": 5
}
