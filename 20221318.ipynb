{
 "cells": [
  {
   "cell_type": "code",
   "execution_count": null,
   "id": "4bd2e9d1",
   "metadata": {},
   "outputs": [],
   "source": [
    "\n",
    "\n",
    "class Heap:\n",
    "\n",
    "    def __init__(self, *args):\n",
    "        if len(args) != 0:\n",
    "            self.__A = args[0]\n",
    "        else: self.__A = []\n",
    "\n",
    "    def insert(self, x):\n",
    "        self.__A.append(x)\n",
    "        self.__percolateUp(len(self.__A)-1)\n",
    "\n",
    "    def __percolateUp(self, i:int):\n",
    "        parent = (i - 1) // 2\n",
    "        if i>0 and self.__A[i] > self.__A[parent]:\n",
    "            self.__A[i], self.__A[parent] = self.__A[parent], self.__A[i]\n",
    "            self.__percolateUp(parent)\n",
    "\n",
    "    def deleteMax(self):\n",
    "        if (not self.isEmpty()):\n",
    "            max = self.__A[0]\n",
    "            self.__A[0] = self.__A.pop()\n",
    "            self.__percolateDown(0)\n",
    "            return max\n",
    "        else : \n",
    "            return None\n",
    "        \n",
    "    def __percolateDown(self, i:int):\n",
    "        child = 2*i+1\n",
    "        right = 2*i+2\n",
    "        if (child <= len(self.__A)-1) :\n",
    "            if(right <=len(self.__A)-1 and self.__A[child] < self.__A[right]):\n",
    "                child = right\n",
    "            if self.__A[i] <self.A[child]:\n",
    "                self.__A[i], self.__A[child] = self.__A[chold], self.__A[i]\n",
    "                self.__percolateDown(child)\n",
    "    \n",
    "    def max(self):\n",
    "        return self.__A[0]\n",
    "    \n",
    "    def buildHeap(self):\n",
    "        for i in range((len(self.__A)-1)//2, -1, -1):\n",
    "            self.__percolateDown(i)\n",
    "\n",
    "    def isEmpty(self) -> bool:\n",
    "        return len(self.__A)==0\n",
    "    \n",
    "    def clear(self):\n",
    "        self.__A=[]\n",
    "\n",
    "    def size(self) -> int:\n",
    "        return len(self.__A)\n",
    "\n"
   ]
  },
  {
   "cell_type": "code",
   "execution_count": null,
   "id": "acf9fb99",
   "metadata": {},
   "outputs": [],
   "source": []
  }
 ],
 "metadata": {
  "kernelspec": {
   "display_name": "Python 3",
   "language": "python",
   "name": "python3"
  },
  "language_info": {
   "codemirror_mode": {
    "name": "ipython",
    "version": 3
   },
   "file_extension": ".py",
   "mimetype": "text/x-python",
   "name": "python",
   "nbconvert_exporter": "python",
   "pygments_lexer": "ipython3",
   "version": "3.11.9"
  }
 },
 "nbformat": 4,
 "nbformat_minor": 5
}
